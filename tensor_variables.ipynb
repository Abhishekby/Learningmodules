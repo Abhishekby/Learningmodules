{
  "nbformat": 4,
  "nbformat_minor": 0,
  "metadata": {
    "colab": {
      "provenance": []
    },
    "kernelspec": {
      "name": "python3",
      "display_name": "Python 3"
    },
    "language_info": {
      "name": "python"
    }
  },
  "cells": [
    {
      "cell_type": "markdown",
      "source": [
        "Here we are gonna discuss the tensors using the tf.Variable\n",
        "remember the 'V'is capital unlike the constants 'c'."
      ],
      "metadata": {
        "id": "0tMCbu6g_y5k"
      }
    },
    {
      "cell_type": "code",
      "execution_count": 2,
      "metadata": {
        "colab": {
          "base_uri": "https://localhost:8080/"
        },
        "id": "MicFkZBa9T_J",
        "outputId": "a5e800f4-0296-487d-aa48-3c51c24db2c3"
      },
      "outputs": [
        {
          "output_type": "execute_result",
          "data": {
            "text/plain": [
              "<tf.Variable 'Variable:0' shape=(2,) dtype=int32, numpy=array([10,  7], dtype=int32)>"
            ]
          },
          "metadata": {},
          "execution_count": 2
        }
      ],
      "source": [
        "import tensorflow as tf\n",
        "first=tf.Variable([10,7])\n",
        "first"
      ]
    },
    {
      "cell_type": "markdown",
      "source": [
        "tf.assign()\n",
        "we can't directly change the value using the indeing method"
      ],
      "metadata": {
        "id": "_kV3Uk67BCW8"
      }
    },
    {
      "cell_type": "code",
      "source": [
        "first[0].assign(49)\n",
        "first"
      ],
      "metadata": {
        "colab": {
          "base_uri": "https://localhost:8080/"
        },
        "id": "AlmCOPS0A1I5",
        "outputId": "f1d33ef8-b7e6-43b0-fb56-1a8f76b91c39"
      },
      "execution_count": 3,
      "outputs": [
        {
          "output_type": "execute_result",
          "data": {
            "text/plain": [
              "<tf.Variable 'Variable:0' shape=(2,) dtype=int32, numpy=array([49,  7], dtype=int32)>"
            ]
          },
          "metadata": {},
          "execution_count": 3
        }
      ]
    }
  ]
}